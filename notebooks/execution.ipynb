{
 "cells": [
  {
   "cell_type": "markdown",
   "metadata": {},
   "source": [
    "#### Teste ChromaDB"
   ]
  },
  {
   "cell_type": "code",
   "execution_count": 1,
   "metadata": {},
   "outputs": [],
   "source": [
    "import chromadb\n",
    "from chromadb.config import Settings"
   ]
  },
  {
   "cell_type": "code",
   "execution_count": 3,
   "metadata": {},
   "outputs": [
    {
     "data": {
      "text/plain": [
       "<chromadb.api.client.Client at 0x78fa9c11f820>"
      ]
     },
     "execution_count": 3,
     "metadata": {},
     "output_type": "execute_result"
    }
   ],
   "source": [
    "client = chromadb.HttpClient(\n",
    "    host=\"http://44.202.20.2:8000\",\n",
    "    settings=Settings(\n",
    "        allow_reset=True,\n",
    "        anonymized_telemetry=False,\n",
    "        chroma_client_auth_provider=\"chromadb.auth.token_authn.TokenAuthClientProvider\",\n",
    "        chroma_client_auth_credentials=\"chr0ma-t0k3n\",\n",
    "        chroma_auth_token_transport_header=\"Authorization\",\n",
    "    ),\n",
    ")\n",
    "\n",
    "client"
   ]
  },
  {
   "cell_type": "code",
   "execution_count": 4,
   "metadata": {},
   "outputs": [],
   "source": [
    "def get_collection(self, *, client: chromadb.HttpClient, collection: str):\n",
    "    return client.get_collection(\n",
    "        collection\n",
    "    )"
   ]
  },
  {
   "cell_type": "code",
   "execution_count": 5,
   "metadata": {},
   "outputs": [
    {
     "data": {
      "text/plain": [
       "Collection(id=a1d8259d-0e9a-461f-8c7d-247c52498f18, name=scientific_collection)"
      ]
     },
     "execution_count": 5,
     "metadata": {},
     "output_type": "execute_result"
    }
   ],
   "source": [
    "collection = client.get_collection(name = \"scientific_collection\")\n",
    "collection"
   ]
  },
  {
   "cell_type": "code",
   "execution_count": 6,
   "metadata": {},
   "outputs": [
    {
     "data": {
      "text/plain": [
       "{'ids': ['c6914e2af8d7394bf6efe90fc1e493f860bc7538e39214aefcdd4494c228d0af',\n",
       "  '24d2ddff463fa34607ded2412d274972f7de349df530d461e354e13a7d2b929e',\n",
       "  'cf272d29c7a7eef92bca4ed389604bd583d2fce57274ccb77d3acb3b8a73ed5a',\n",
       "  '9c6050e67d89f979a1d67917df445b6d788fb698a74edefbfe9f55f8e0037685',\n",
       "  'b7ed721fc3128848ecd63c819ba900cb1ce52aec19f4d8b612319a44066d7a46'],\n",
       " 'embeddings': None,\n",
       " 'metadatas': [{'doi': '10.4316/AECE.2024.01001',\n",
       "   'keywords': 'assistive technology, control design, modeling, optimal control, visual servoing',\n",
       "   'name': 'Design and Analysis of a Novel Sidewalk Following Visual Controller for an Autonomous Wheelchair',\n",
       "   'page': '0',\n",
       "   'publication_date': '2024-02-29',\n",
       "   'source': 'https://aece.ro/displaypdf.php?year=2024&number=1&article=1',\n",
       "   'start_index': 0},\n",
       "  {'doi': '10.4316/AECE.2024.01001',\n",
       "   'keywords': 'assistive technology, control design, modeling, optimal control, visual servoing',\n",
       "   'name': 'Design and Analysis of a Novel Sidewalk Following Visual Controller for an Autonomous Wheelchair',\n",
       "   'page': '0',\n",
       "   'publication_date': '2024-02-29',\n",
       "   'source': 'https://aece.ro/displaypdf.php?year=2024&number=1&article=1',\n",
       "   'start_index': 487},\n",
       "  {'doi': '10.4316/AECE.2024.01001',\n",
       "   'keywords': 'assistive technology, control design, modeling, optimal control, visual servoing',\n",
       "   'name': 'Design and Analysis of a Novel Sidewalk Following Visual Controller for an Autonomous Wheelchair',\n",
       "   'page': '0',\n",
       "   'publication_date': '2024-02-29',\n",
       "   'source': 'https://aece.ro/displaypdf.php?year=2024&number=1&article=1',\n",
       "   'start_index': 937},\n",
       "  {'doi': '10.4316/AECE.2024.01001',\n",
       "   'keywords': 'assistive technology, control design, modeling, optimal control, visual servoing',\n",
       "   'name': 'Design and Analysis of a Novel Sidewalk Following Visual Controller for an Autonomous Wheelchair',\n",
       "   'page': '0',\n",
       "   'publication_date': '2024-02-29',\n",
       "   'source': 'https://aece.ro/displaypdf.php?year=2024&number=1&article=1',\n",
       "   'start_index': 1296},\n",
       "  {'doi': '10.4316/AECE.2024.01001',\n",
       "   'keywords': 'assistive technology, control design, modeling, optimal control, visual servoing',\n",
       "   'name': 'Design and Analysis of a Novel Sidewalk Following Visual Controller for an Autonomous Wheelchair',\n",
       "   'page': '0',\n",
       "   'publication_date': '2024-02-29',\n",
       "   'source': 'https://aece.ro/displaypdf.php?year=2024&number=1&article=1',\n",
       "   'start_index': 1720}],\n",
       " 'documents': ['Advances in Electrical and Computer Engineering                                                                      Volume 24  Number 1 2024  Design and Analysis of a Novel Sidewalk Following Visual Controller for an Autonomous Wheelchair Efgan UUR1 Tolgay KARA1 Abdulhafez ABDULHAFEZ2 Ismail Haj OSMAN1 1Department of Electrical and Electronics Engineering Gaziantep University 27310 Turkey 2Department of Software Engineering Hasan Kalyoncu University 27010 Turkey efganugurgantepedutr',\n",
       "  'efganugurgantepedutr  Abstract This paper presents a study that focuses on sidewalk following problem of an autonomous wheelchair The main goal is to propose a so lution to the urban mobility problem of people with walking di sabilities The study offers an efficient control system design for this task A linearized wheelchair model is constructed and imagebased visual servoing is introduced to evaluate the performance of tracking yellow tactile pavement on side walk with optimal control',\n",
       "  'yellow tactile pavement on side walk with optimal control Reference trajectory sets are created using robust vanishing point for sidewalk following by employing the Hough Lines method These reference paths are tested with two control methods of Linear Quadratic Regulator LQR control and Pole Placement PP control Both control methods are applied through simulation on the auto nomous wheelchair model and',\n",
       "  'through simulation on the auto nomous wheelchair model and efficacy of sidewalk following under these control methods is discussed comparatively Disturba nce attenuation results of the given optimal control methods and simulation outputs prove the efficacy of the model and the designed control systems LQR control method proves to have better performance in system response in comparison to PP control method   Index Terms assistive technology control design modeling',\n",
       "  'Index Terms assistive technology control design modeling optimal control visual servoing NOMENCLATURE  b Intercept of the lines COG  Center of gravity  DC   Direct current EMF Electromotive force Fh Horizontal forces  g Gravitation HDR High dynamic range IAE Integral absolute error ITAE Integral timeweighted absolute error Ip   Body inertia Iw Wheel inertia ke back EMF km Motor torque l  Distance from bodys COG LQR Linear quadratic controller MSE  Mean squared error'],\n",
       " 'data': None,\n",
       " 'uris': None,\n",
       " 'included': ['documents', 'metadatas']}"
      ]
     },
     "execution_count": 6,
     "metadata": {},
     "output_type": "execute_result"
    }
   ],
   "source": [
    "all_data = collection.get(\n",
    "    limit=5\n",
    ")\n",
    "\n",
    "all_data"
   ]
  },
  {
   "cell_type": "markdown",
   "metadata": {},
   "source": [
    "#### Teste API"
   ]
  },
  {
   "cell_type": "code",
   "execution_count": 33,
   "metadata": {},
   "outputs": [],
   "source": [
    "import requests\n",
    "\n",
    "# Define the URL and parameters\n",
    "url = \"http://0.0.0.0:8000/rag\"\n",
    "\n",
    "headers ={\n",
    "    \"key\": \"api-tok3n\"\n",
    "}\n",
    "\n",
    "params = {\n",
    "    \"question\": \"oi, tudo bem?\",\n",
    "    \"prompt_type\": \"start\"\n",
    "}\n",
    "\n",
    "# Make the POST request\n",
    "response = requests.post(url, params=params, headers = headers)"
   ]
  },
  {
   "cell_type": "markdown",
   "metadata": {},
   "source": [
    "###"
   ]
  }
 ],
 "metadata": {
  "kernelspec": {
   "display_name": "3.10.2",
   "language": "python",
   "name": "python3"
  },
  "language_info": {
   "codemirror_mode": {
    "name": "ipython",
    "version": 3
   },
   "file_extension": ".py",
   "mimetype": "text/x-python",
   "name": "python",
   "nbconvert_exporter": "python",
   "pygments_lexer": "ipython3",
   "version": "3.10.2"
  }
 },
 "nbformat": 4,
 "nbformat_minor": 2
}
